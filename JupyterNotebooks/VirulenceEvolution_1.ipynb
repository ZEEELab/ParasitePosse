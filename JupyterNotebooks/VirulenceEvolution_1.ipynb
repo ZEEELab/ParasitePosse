{
 "cells": [
  {
   "cell_type": "code",
   "execution_count": null,
   "metadata": {},
   "outputs": [],
   "source": [
    "import numpy\n",
    "from matplotlib import pyplot"
   ]
  },
  {
   "cell_type": "code",
   "execution_count": null,
   "metadata": {},
   "outputs": [],
   "source": [
    "numpy.loadtxt('no_mut_1/grid_virulence.10000.dat')"
   ]
  },
  {
   "cell_type": "code",
   "execution_count": null,
   "metadata": {},
   "outputs": [],
   "source": [
    "grid_filename_str = '{0}/grid_virulence.{1}.dat'\n",
    "working_dir = \"mut_2\"\n",
    "grid_update = 2000\n",
    "\n",
    "print(grid_filename_str.format(working_dir, grid_update))"
   ]
  },
  {
   "cell_type": "code",
   "execution_count": null,
   "metadata": {},
   "outputs": [],
   "source": [
    "vir_grid = numpy.loadtxt(grid_filename_str.format(working_dir, grid_update))"
   ]
  },
  {
   "cell_type": "code",
   "execution_count": null,
   "metadata": {},
   "outputs": [],
   "source": [
    "print(vir_grid)"
   ]
  },
  {
   "cell_type": "code",
   "execution_count": null,
   "metadata": {},
   "outputs": [],
   "source": [
    "vir_grid.flatten()"
   ]
  },
  {
   "cell_type": "code",
   "execution_count": null,
   "metadata": {},
   "outputs": [],
   "source": [
    "vir_values = vir_grid.flatten()"
   ]
  },
  {
   "cell_type": "code",
   "execution_count": null,
   "metadata": {},
   "outputs": [],
   "source": []
  },
  {
   "cell_type": "code",
   "execution_count": null,
   "metadata": {},
   "outputs": [],
   "source": [
    "pyplot.hist(vir_values)\n",
    "pyplot.show()"
   ]
  },
  {
   "cell_type": "code",
   "execution_count": null,
   "metadata": {},
   "outputs": [],
   "source": [
    "pyplot.hist(vir_values[vir_values > 0])\n",
    "pyplot.show()"
   ]
  },
  {
   "cell_type": "code",
   "execution_count": null,
   "metadata": {},
   "outputs": [],
   "source": [
    "grid_filename_str = '{0}/grid_virulence.{1}.dat'\n",
    "working_dir = \"mut_2\"\n",
    "\n",
    "for grid_update in range(2000, 100001, 1000):\n",
    "    vir_grid = numpy.loadtxt(grid_filename_str.format(working_dir, grid_update))\n",
    "    vir_values = vir_grid.flatten()\n",
    "    pyplot.hist(vir_values[vir_values > 0])\n",
    "    pyplot.show()"
   ]
  },
  {
   "cell_type": "code",
   "execution_count": null,
   "metadata": {},
   "outputs": [],
   "source": [
    "grid_filename_str = '{0}/grid_virulence.{1}.dat'\n",
    "working_dir = \"mut_3\"\n",
    "\n",
    "for grid_update in range(2000, 100001, 1000):\n",
    "    vir_grid = numpy.loadtxt(grid_filename_str.format(working_dir, grid_update))\n",
    "    vir_values = vir_grid.flatten()\n",
    "    pyplot.hist(vir_values[vir_values > 0])\n",
    "    pyplot.xlim(0.65, 1)\n",
    "    pyplot.show()"
   ]
  },
  {
   "cell_type": "code",
   "execution_count": null,
   "metadata": {},
   "outputs": [],
   "source": [
    "vir_values[vir_values > 0]"
   ]
  },
  {
   "cell_type": "code",
   "execution_count": null,
   "metadata": {},
   "outputs": [],
   "source": [
    "print(numpy.linspace(0.65, 1.0, 10))\n",
    "print(\"\")\n",
    "print(numpy.linspace(0.65, 1.0, 20))"
   ]
  },
  {
   "cell_type": "code",
   "execution_count": null,
   "metadata": {},
   "outputs": [],
   "source": [
    "numpy.histogram(vir_values[vir_values > 0], bins=numpy.linspace(0.65, 1.0, 20))"
   ]
  },
  {
   "cell_type": "code",
   "execution_count": null,
   "metadata": {},
   "outputs": [],
   "source": [
    "grid_filename_str = '{0}/grid_virulence.{1}.dat'\n",
    "working_dir = \"no_mut_1\"\n",
    "timeseries_histogram = []\n",
    "\n",
    "for grid_update in range(2000, 100001, 1000):\n",
    "    vir_grid = numpy.loadtxt(grid_filename_str.format(working_dir, grid_update))\n",
    "    vir_values = vir_grid.flatten()\n",
    "    update_hist, _throwaway = numpy.histogram(vir_values[vir_values > 0], bins=numpy.linspace(0.6499, 1.001, 40))\n",
    "    timeseries_histogram.append(update_hist)\n",
    "pyplot.matshow(timeseries_histogram)"
   ]
  },
  {
   "cell_type": "code",
   "execution_count": null,
   "metadata": {},
   "outputs": [],
   "source": [
    "grid_filename_str = '{0}/grid_virulence.{1}.dat'\n",
    "working_dir = \"no_mut_1\"\n",
    "timeseries_histogram = []\n",
    "\n",
    "for grid_update in range(2000, 100001, 1000):\n",
    "    vir_grid = numpy.loadtxt(grid_filename_str.format(working_dir, grid_update))\n",
    "    vir_values = vir_grid.flatten()\n",
    "    update_hist, _throwaway = numpy.histogram(vir_values[vir_values > 0], bins=numpy.linspace(0.6499, 1.001, 40))\n",
    "    timeseries_histogram.append(update_hist/sum(update_hist))\n",
    "pyplot.matshow(timeseries_histogram)"
   ]
  },
  {
   "cell_type": "code",
   "execution_count": null,
   "metadata": {},
   "outputs": [],
   "source": [
    "working_dir = \"no_mut_1\"\n",
    "para_counts = numpy.loadtxt('{0}/ParasiteData.dat'.format(working_dir))\n",
    "para_counts = para_counts.transpose()\n",
    "pyplot.plot(para_counts[0], para_counts[1])"
   ]
  },
  {
   "cell_type": "code",
   "execution_count": null,
   "metadata": {},
   "outputs": [],
   "source": [
    "para_counts"
   ]
  },
  {
   "cell_type": "code",
   "execution_count": null,
   "metadata": {},
   "outputs": [],
   "source": []
  }
 ],
 "metadata": {
  "kernelspec": {
   "display_name": "Python 3",
   "language": "python",
   "name": "python3"
  },
  "language_info": {
   "codemirror_mode": {
    "name": "ipython",
    "version": 3
   },
   "file_extension": ".py",
   "mimetype": "text/x-python",
   "name": "python",
   "nbconvert_exporter": "python",
   "pygments_lexer": "ipython3",
   "version": "3.7.4"
  }
 },
 "nbformat": 4,
 "nbformat_minor": 2
}
